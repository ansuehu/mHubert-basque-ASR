{
 "cells": [
  {
   "cell_type": "code",
   "execution_count": 32,
   "metadata": {},
   "outputs": [],
   "source": [
    "import os\n",
    "import sys\n",
    "parent_dir = os.path.abspath(os.path.join(os.getcwd(), \"..\"))\n",
    "sys.path.append(parent_dir)\n",
    "from scripts.utils import load_data, setup_processor\n",
    "from scripts.finetune_hubert import train_model\n",
    "\n",
    "os.chdir('/shared/home/andoni.sudupe/mHubert_finetune')"
   ]
  },
  {
   "cell_type": "code",
   "execution_count": 33,
   "metadata": {},
   "outputs": [
    {
     "data": {
      "text/plain": [
       "'/shared/home/andoni.sudupe/mHubert_finetune'"
      ]
     },
     "execution_count": 33,
     "metadata": {},
     "output_type": "execute_result"
    }
   ],
   "source": [
    "os.getcwd()"
   ]
  },
  {
   "cell_type": "code",
   "execution_count": 34,
   "metadata": {},
   "outputs": [
    {
     "name": "stdout",
     "output_type": "stream",
     "text": [
      "DatasetDict({\n",
      "    train: Dataset({\n",
      "        features: ['input_values', 'labels'],\n",
      "        num_rows: 387426\n",
      "    })\n",
      "    test: Dataset({\n",
      "        features: ['input_values', 'labels'],\n",
      "        num_rows: 16359\n",
      "    })\n",
      "    test_cv: Dataset({\n",
      "        features: ['input_values', 'labels'],\n",
      "        num_rows: 14312\n",
      "    })\n",
      "    test_parl: Dataset({\n",
      "        features: ['input_values', 'labels'],\n",
      "        num_rows: 1521\n",
      "    })\n",
      "    test_oslr: Dataset({\n",
      "        features: ['input_values', 'labels'],\n",
      "        num_rows: 526\n",
      "    })\n",
      "    dev: Dataset({\n",
      "        features: ['input_values', 'labels'],\n",
      "        num_rows: 1691\n",
      "    })\n",
      "    dev_cv: Dataset({\n",
      "        features: ['input_values', 'labels'],\n",
      "        num_rows: 620\n",
      "    })\n",
      "    dev_parl: Dataset({\n",
      "        features: ['input_values', 'labels'],\n",
      "        num_rows: 550\n",
      "    })\n",
      "    dev_oslr: Dataset({\n",
      "        features: ['input_values', 'labels'],\n",
      "        num_rows: 521\n",
      "    })\n",
      "})\n"
     ]
    }
   ],
   "source": [
    "data = load_data('/home/andoni.sudupe/mHubert_finetune/data/preprocessed_data')"
   ]
  },
  {
   "cell_type": "code",
   "execution_count": 37,
   "metadata": {},
   "outputs": [
    {
     "name": "stdout",
     "output_type": "stream",
     "text": [
      "\n",
      "Step 2: Training model...\n"
     ]
    },
    {
     "ename": "TypeError",
     "evalue": "train_model() got multiple values for argument 'ctc_only'",
     "output_type": "error",
     "traceback": [
      "\u001b[31m---------------------------------------------------------------------------\u001b[39m",
      "\u001b[31mTypeError\u001b[39m                                 Traceback (most recent call last)",
      "\u001b[36mCell\u001b[39m\u001b[36m \u001b[39m\u001b[32mIn[37]\u001b[39m\u001b[32m, line 7\u001b[39m\n\u001b[32m      5\u001b[39m \u001b[38;5;66;03m# 2. Train model\u001b[39;00m\n\u001b[32m      6\u001b[39m \u001b[38;5;28mprint\u001b[39m(\u001b[33m\"\u001b[39m\u001b[38;5;130;01m\\n\u001b[39;00m\u001b[33mStep 2: Training model...\u001b[39m\u001b[33m\"\u001b[39m)\n\u001b[32m----> \u001b[39m\u001b[32m7\u001b[39m model = \u001b[43mtrain_model\u001b[49m\u001b[43m(\u001b[49m\u001b[43mmodel_name\u001b[49m\u001b[43m,\u001b[49m\u001b[43m \u001b[49m\u001b[43mdata\u001b[49m\u001b[43m[\u001b[49m\u001b[33;43m'\u001b[39;49m\u001b[33;43mtrain\u001b[39;49m\u001b[33;43m'\u001b[39;49m\u001b[43m]\u001b[49m\u001b[43m,\u001b[49m\u001b[43m \u001b[49m\u001b[43mdata\u001b[49m\u001b[43m[\u001b[49m\u001b[33;43m'\u001b[39;49m\u001b[33;43mdev\u001b[39;49m\u001b[33;43m'\u001b[39;49m\u001b[43m]\u001b[49m\u001b[43m,\u001b[49m\u001b[43m \u001b[49m\u001b[43mprocessor\u001b[49m\u001b[43m,\u001b[49m\u001b[43m \u001b[49m\u001b[43mctc_only\u001b[49m\u001b[43m=\u001b[49m\u001b[38;5;28;43;01mTrue\u001b[39;49;00m\u001b[43m)\u001b[49m\n",
      "\u001b[31mTypeError\u001b[39m: train_model() got multiple values for argument 'ctc_only'"
     ]
    }
   ],
   "source": [
    "model_name = \"utter-project/mHuBERT-147\"\n",
    "\n",
    "processor, _ = setup_processor(model_name)\n",
    "\n",
    "# 2. Train model\n",
    "print(\"\\nStep 2: Training model...\")\n",
    "model = train_model(model_name, data['train'], data['dev'], processor, ctc_only=True)"
   ]
  }
 ],
 "metadata": {
  "kernelspec": {
   "display_name": "myenv",
   "language": "python",
   "name": "python3"
  },
  "language_info": {
   "codemirror_mode": {
    "name": "ipython",
    "version": 3
   },
   "file_extension": ".py",
   "mimetype": "text/x-python",
   "name": "python",
   "nbconvert_exporter": "python",
   "pygments_lexer": "ipython3",
   "version": "3.12.4"
  }
 },
 "nbformat": 4,
 "nbformat_minor": 2
}
