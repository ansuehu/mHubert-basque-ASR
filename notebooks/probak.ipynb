{
 "cells": [
  {
   "cell_type": "code",
   "execution_count": 39,
   "metadata": {},
   "outputs": [],
   "source": [
    "import os\n",
    "import sys\n",
    "parent_dir = os.path.abspath(os.path.join(os.getcwd(), \"..\"))\n",
    "sys.path.append(parent_dir)\n",
    "import importlib\n",
    "importlib.reload(scripts.utils)\n",
    "from scripts.utils import load_data # First import"
   ]
  },
  {
   "cell_type": "code",
   "execution_count": 41,
   "metadata": {},
   "outputs": [
    {
     "name": "stdout",
     "output_type": "stream",
     "text": [
      "Dataset({\n",
      "    features: ['input_values', 'labels'],\n",
      "    num_rows: 16359\n",
      "})\n"
     ]
    }
   ],
   "source": [
    "data = load_data('/home/andoni.sudupe/mHubert_finetune/data/preprocessed_data', 'test')"
   ]
  },
  {
   "cell_type": "code",
   "execution_count": 34,
   "metadata": {},
   "outputs": [
    {
     "name": "stdout",
     "output_type": "stream",
     "text": [
      "DatasetDict({\n",
      "    test: Dataset({\n",
      "        features: ['input_values', 'labels'],\n",
      "        num_rows: 16359\n",
      "    })\n",
      "})\n"
     ]
    }
   ],
   "source": [
    "from datasets import DatasetDict, concatenate_datasets\n",
    "\n",
    "# Get all test splits\n",
    "test_splits = [ds for k, ds in data.items() if k.startswith(\"test\")]\n",
    "\n",
    "# Combine into one test set\n",
    "if test_splits:\n",
    "    data[\"test\"] = concatenate_datasets(test_splits)\n",
    "\n",
    "# Optionally, remove the old test splits\n",
    "for k in list(data.keys()):\n",
    "    if k.startswith(\"test\") and k != \"test\":\n",
    "        del data[k]\n",
    "\n",
    "print(data)"
   ]
  }
 ],
 "metadata": {
  "kernelspec": {
   "display_name": "myenv",
   "language": "python",
   "name": "python3"
  },
  "language_info": {
   "codemirror_mode": {
    "name": "ipython",
    "version": 3
   },
   "file_extension": ".py",
   "mimetype": "text/x-python",
   "name": "python",
   "nbconvert_exporter": "python",
   "pygments_lexer": "ipython3",
   "version": "3.12.4"
  }
 },
 "nbformat": 4,
 "nbformat_minor": 2
}
